{
 "cells": [
  {
   "cell_type": "code",
   "execution_count": 6,
   "metadata": {},
   "outputs": [],
   "source": [
    "import numpy as np\n",
    "from keras.models import Sequential \n",
    "from keras.layers import Dense\n",
    "#import mnist\n",
    "from keras.datasets import mnist\n",
    "import matplotlib.pyplot as plt\n",
    "from keras.utils import to_categorical\n",
    "import pandas as pd"
   ]
  },
  {
   "cell_type": "markdown",
   "metadata": {},
   "source": [
    "# Task: Recognize the handwriting of digits (0-9)"
   ]
  },
  {
   "cell_type": "markdown",
   "metadata": {},
   "source": [
    "Providing with a training dataset with a series of digits in handwriting, training a model to predict handwriting digits. Only greyscale digit is used.  The shape of each image in training set is : (60000, 28, 28), including 60000 samples for training with 28*28 pixel size. The dateset is provided through the mist library."
   ]
  },
  {
   "cell_type": "code",
   "execution_count": 7,
   "metadata": {},
   "outputs": [],
   "source": [
    "# load the data \n",
    "#train_images = mnist.train_images()\n",
    "#train_labels = mnist.train_labels()\n",
    "#test_images = mnist.test_images()\n",
    "#test_labels = mnist.test_labels()\n",
    "\n",
    "(x_train, y_train), (x_test, y_test) = mnist.load_data()"
   ]
  },
  {
   "cell_type": "markdown",
   "metadata": {},
   "source": [
    "# show the image data"
   ]
  },
  {
   "cell_type": "code",
   "execution_count": 10,
   "metadata": {},
   "outputs": [
    {
     "data": {
      "text/plain": [
       "<matplotlib.image.AxesImage at 0x2215f153bb0>"
      ]
     },
     "execution_count": 10,
     "metadata": {},
     "output_type": "execute_result"
    },
    {
     "data": {
      "image/png": "[encoded data removed]",
      "text/plain": [
       "<Figure size 432x288 with 1 Axes>"
      ]
     },
     "metadata": {
      "needs_background": "light"
     },
     "output_type": "display_data"
    }
   ],
   "source": [
    "%matplotlib inline \n",
    "index=10\n",
    "plt.imshow(x_train[index])"
   ]
  },
  {
   "cell_type": "markdown",
   "metadata": {},
   "source": [
    "# data preprocessing"
   ]
  },
  {
   "cell_type": "code",
   "execution_count": 11,
   "metadata": {},
   "outputs": [],
   "source": [
    "# normalize data by 255, which is the color range. And scale them into the range of [-0.5,0.5]\n",
    "train_images=x_train/255-0.5\n",
    "test_images=x_test/255-0.5"
   ]
  },
  {
   "cell_type": "code",
   "execution_count": 12,
   "metadata": {},
   "outputs": [
    {
     "name": "stdout",
     "output_type": "stream",
     "text": [
      "(60000, 784)\n",
      "(10000, 784)\n"
     ]
    }
   ],
   "source": [
    "# flatten data into a shape of (num_samples,num_features)\n",
    "# noted, the input data shape in keras is go back to the convention, different with the utilize of nn theoretical derivation.\n",
    "train_images=train_images.reshape((-1,28*28)) \n",
    "test_images=test_images.reshape((-1,28*28))\n",
    "print (train_images.shape)\n",
    "print (test_images.shape)"
   ]
  },
  {
   "cell_type": "markdown",
   "metadata": {},
   "source": [
    "# Build the NN model with keras framework"
   ]
  },
  {
   "cell_type": "markdown",
   "metadata": {},
   "source": [
    "Dense implements the operation: output = activation(dot(input, kernel) + bias) where activation is the element-wise activation function passed as the activation argument, kernel is a weights matrix created by the layer, and bias is a bias vector created by the layer (only applicable if use_bias is True).\n"
   ]
  },
  {
   "cell_type": "code",
   "execution_count": 14,
   "metadata": {},
   "outputs": [],
   "source": [
    "# build the  NN model with keras framework. \n",
    "# it is much simpler than the utilize of tensorflow, which provids a support and the backend of keras. \n",
    "# the first thing is that we have to explicitly tell the keras what the input_shape look like. \n",
    "# use softmax to convert the values into a probability distribution.\n",
    "\n",
    "model=Sequential([Dense(64,activation='relu',input_shape=(784,)),\n",
    "                 Dense(64,activation='relu'),\n",
    "                 Dense(10,activation='softmax'),])"
   ]
  },
  {
   "cell_type": "markdown",
   "metadata": {},
   "source": [
    "# Comile the model\n",
    "\n",
    "Before we can begin training, we need to configure the training process. We decide 3 key factors during the compilation step:\n",
    "\n",
    "# The optimizer. \n",
    "We’ll stick with a pretty good default: the Adam gradient-based optimizer. Keras has many other optimizers you can look into as well.\n",
    "\n",
    "# The loss function. \n",
    "Since we’re using a Softmax output layer, we’ll use the Cross-Entropy loss. Keras distinguishes between binary_crossentropy (2 classes) and categorical_crossentropy (>2 classes), so we’ll use the latter. See all Keras losses.\n",
    "\n",
    "# A list of metrics. \n",
    "Since this is a classification problem, we’ll just have Keras report on the accuracy metric."
   ]
  },
  {
   "cell_type": "code",
   "execution_count": 16,
   "metadata": {},
   "outputs": [],
   "source": [
    "# Compile the model.\n",
    "# we can see that, it is much simpler than the use of tensorflow\n",
    "model.compile (optimizer='adam',loss='categorical_crossentropy',metrics=['accuracy'])"
   ]
  },
  {
   "cell_type": "markdown",
   "metadata": {},
   "source": [
    "# Training the Model\n",
    "\n",
    "Training a model in Keras literally consists only of calling fit() and specifying some parameters. \n",
    "There are a lot of possible parameters, but we’ll only manually supply a few:\n",
    "\n",
    "The training data (images and labels), commonly known as X and Y, respectively.\n",
    "The number of epochs (iterations over the entire dataset) to train for.\n",
    "The batch size (number of samples per gradient update) to use when training."
   ]
  },
  {
   "cell_type": "code",
   "execution_count": 17,
   "metadata": {},
   "outputs": [
    {
     "name": "stdout",
     "output_type": "stream",
     "text": [
      "Epoch 1/15\n",
      "1875/1875 [==============================] - 1s 747us/step - loss: 0.3682 - accuracy: 0.8893\n",
      "Epoch 2/15\n",
      "1875/1875 [==============================] - 1s 727us/step - loss: 0.1889 - accuracy: 0.9424\n",
      "Epoch 3/15\n",
      "1875/1875 [==============================] - 1s 711us/step - loss: 0.1449 - accuracy: 0.9556\n",
      "Epoch 4/15\n",
      "1875/1875 [==============================] - 1s 689us/step - loss: 0.1202 - accuracy: 0.9630\n",
      "Epoch 5/15\n",
      "1875/1875 [==============================] - 1s 754us/step - loss: 0.1035 - accuracy: 0.9671\n",
      "Epoch 6/15\n",
      "1875/1875 [==============================] - 2s 841us/step - loss: 0.0925 - accuracy: 0.9701\n",
      "Epoch 7/15\n",
      "1875/1875 [==============================] - 1s 780us/step - loss: 0.0852 - accuracy: 0.9727\n",
      "Epoch 8/15\n",
      "1875/1875 [==============================] - 1s 747us/step - loss: 0.0782 - accuracy: 0.9754\n",
      "Epoch 9/15\n",
      "1875/1875 [==============================] - 1s 694us/step - loss: 0.0725 - accuracy: 0.9770\n",
      "Epoch 10/15\n",
      "1875/1875 [==============================] - 1s 702us/step - loss: 0.0648 - accuracy: 0.9790\n",
      "Epoch 11/15\n",
      "1875/1875 [==============================] - 1s 696us/step - loss: 0.0627 - accuracy: 0.9796\n",
      "Epoch 12/15\n",
      "1875/1875 [==============================] - 1s 710us/step - loss: 0.0555 - accuracy: 0.9813\n",
      "Epoch 13/15\n",
      "1875/1875 [==============================] - 1s 728us/step - loss: 0.0558 - accuracy: 0.9815\n",
      "Epoch 14/15\n",
      "1875/1875 [==============================] - 1s 719us/step - loss: 0.0503 - accuracy: 0.9843\n",
      "Epoch 15/15\n",
      "1875/1875 [==============================] - 1s 702us/step - loss: 0.0475 - accuracy: 0.9843\n"
     ]
    },
    {
     "data": {
      "text/plain": [
       "<tensorflow.python.keras.callbacks.History at 0x2215f690730>"
      ]
     },
     "execution_count": 17,
     "metadata": {},
     "output_type": "execute_result"
    }
   ],
   "source": [
    "# Train the model.\n",
    "model.fit(\n",
    "  train_images,\n",
    "  to_categorical(y_train),\n",
    "  epochs=15,\n",
    "  batch_size=32,\n",
    ")"
   ]
  },
  {
   "cell_type": "markdown",
   "metadata": {},
   "source": [
    "# Evaluate the model"
   ]
  },
  {
   "cell_type": "code",
   "execution_count": 18,
   "metadata": {},
   "outputs": [
    {
     "name": "stdout",
     "output_type": "stream",
     "text": [
      "313/313 [==============================] - 0s 673us/step - loss: 0.1148 - accuracy: 0.9699\n"
     ]
    },
    {
     "data": {
      "text/plain": [
       "[0.11478546261787415, 0.9699000120162964]"
      ]
     },
     "execution_count": 18,
     "metadata": {},
     "output_type": "execute_result"
    }
   ],
   "source": [
    "#evaluate() returns an array containing the test loss followed by any metrics we specified. \n",
    "# Thus, our model achieves a 0.108 test loss and 96.5% \n",
    "# test accuracy! Not bad for your first neural network.\n",
    "\n",
    "model.evaluate(\n",
    "  test_images,\n",
    "  to_categorical(y_test)\n",
    ")"
   ]
  },
  {
   "cell_type": "markdown",
   "metadata": {},
   "source": [
    "# save the model and use it"
   ]
  },
  {
   "cell_type": "code",
   "execution_count": 19,
   "metadata": {},
   "outputs": [],
   "source": [
    "model.save_weights('C:/projectSDU_py/deepLearning-cases/keras_handwrinting/hw_model.h5')  # save the weigths to a model for future use, format: .h5"
   ]
  },
  {
   "cell_type": "code",
   "execution_count": 20,
   "metadata": {},
   "outputs": [],
   "source": [
    "### the way how to rebuild the model and load the model for utilize \n",
    "#from keras.models import Sequential\n",
    "#from keras.layers import Dense\n",
    "\n",
    "# Build the model.\n",
    "# the same nn framework should be used \n",
    "model = Sequential([\n",
    "  Dense(64, activation='relu', input_shape=(784,)),\n",
    "  Dense(64, activation='relu'),\n",
    "  Dense(10, activation='softmax'),\n",
    "])\n",
    "\n",
    "# Load the model's saved weights.\n",
    "model.load_weights('C:/projectSDU_py/deepLearning-cases/keras_handwrinting/hw_model.h5')"
   ]
  },
  {
   "cell_type": "code",
   "execution_count": 21,
   "metadata": {},
   "outputs": [],
   "source": [
    "# Predict on the first 5 test images.\n",
    "predictions = model.predict(test_images[:5])\n",
    "predictions=pd.DataFrame(predictions)"
   ]
  },
  {
   "cell_type": "code",
   "execution_count": 22,
   "metadata": {},
   "outputs": [
    {
     "data": {
      "text/html": [
       "<div>\n",
       "<style scoped>\n",
       "    .dataframe tbody tr th:only-of-type {\n",
       "        vertical-align: middle;\n",
       "    }\n",
       "\n",
       "    .dataframe tbody tr th {\n",
       "        vertical-align: top;\n",
       "    }\n",
       "\n",
       "    .dataframe thead th {\n",
       "        text-align: right;\n",
       "    }\n",
       "</style>\n",
       "<table border=\"1\" class=\"dataframe\">\n",
       "  <thead>\n",
       "    <tr style=\"text-align: right;\">\n",
       "      <th></th>\n",
       "      <th>0</th>\n",
       "      <th>1</th>\n",
       "      <th>2</th>\n",
       "      <th>3</th>\n",
       "      <th>4</th>\n",
       "      <th>5</th>\n",
       "      <th>6</th>\n",
       "      <th>7</th>\n",
       "      <th>8</th>\n",
       "      <th>9</th>\n",
       "    </tr>\n",
       "  </thead>\n",
       "  <tbody>\n",
       "    <tr>\n",
       "      <th>0</th>\n",
       "      <td>1.251808e-07</td>\n",
       "      <td>2.188396e-08</td>\n",
       "      <td>9.385298e-06</td>\n",
       "      <td>8.000184e-05</td>\n",
       "      <td>3.932000e-12</td>\n",
       "      <td>1.897250e-08</td>\n",
       "      <td>3.784240e-15</td>\n",
       "      <td>9.999011e-01</td>\n",
       "      <td>2.742675e-09</td>\n",
       "      <td>9.392648e-06</td>\n",
       "    </tr>\n",
       "    <tr>\n",
       "      <th>1</th>\n",
       "      <td>4.140871e-13</td>\n",
       "      <td>3.082604e-07</td>\n",
       "      <td>9.999992e-01</td>\n",
       "      <td>1.014291e-07</td>\n",
       "      <td>3.313922e-19</td>\n",
       "      <td>4.861271e-11</td>\n",
       "      <td>4.037799e-11</td>\n",
       "      <td>4.515735e-14</td>\n",
       "      <td>3.850750e-07</td>\n",
       "      <td>6.983586e-19</td>\n",
       "    </tr>\n",
       "    <tr>\n",
       "      <th>2</th>\n",
       "      <td>3.752488e-12</td>\n",
       "      <td>9.998296e-01</td>\n",
       "      <td>2.440575e-05</td>\n",
       "      <td>1.279920e-04</td>\n",
       "      <td>3.361044e-06</td>\n",
       "      <td>4.362307e-07</td>\n",
       "      <td>9.068518e-07</td>\n",
       "      <td>6.361164e-06</td>\n",
       "      <td>6.851589e-06</td>\n",
       "      <td>6.635903e-09</td>\n",
       "    </tr>\n",
       "    <tr>\n",
       "      <th>3</th>\n",
       "      <td>9.985909e-01</td>\n",
       "      <td>2.147041e-12</td>\n",
       "      <td>1.355595e-03</td>\n",
       "      <td>2.228484e-09</td>\n",
       "      <td>1.361363e-08</td>\n",
       "      <td>1.466286e-09</td>\n",
       "      <td>8.896251e-08</td>\n",
       "      <td>1.148137e-05</td>\n",
       "      <td>1.958071e-08</td>\n",
       "      <td>4.192355e-05</td>\n",
       "    </tr>\n",
       "    <tr>\n",
       "      <th>4</th>\n",
       "      <td>8.594750e-12</td>\n",
       "      <td>1.814137e-11</td>\n",
       "      <td>1.473839e-07</td>\n",
       "      <td>2.054778e-11</td>\n",
       "      <td>9.999583e-01</td>\n",
       "      <td>5.808052e-11</td>\n",
       "      <td>1.026500e-09</td>\n",
       "      <td>3.927865e-05</td>\n",
       "      <td>7.786404e-09</td>\n",
       "      <td>2.234365e-06</td>\n",
       "    </tr>\n",
       "  </tbody>\n",
       "</table>\n",
       "</div>"
      ],
      "text/plain": [
       "              0             1             2             3             4  \\\n",
       "0  1.251808e-07  2.188396e-08  9.385298e-06  8.000184e-05  3.932000e-12   \n",
       "1  4.140871e-13  3.082604e-07  9.999992e-01  1.014291e-07  3.313922e-19   \n",
       "2  3.752488e-12  9.998296e-01  2.440575e-05  1.279920e-04  3.361044e-06   \n",
       "3  9.985909e-01  2.147041e-12  1.355595e-03  2.228484e-09  1.361363e-08   \n",
       "4  8.594750e-12  1.814137e-11  1.473839e-07  2.054778e-11  9.999583e-01   \n",
       "\n",
       "              5             6             7             8             9  \n",
       "0  1.897250e-08  3.784240e-15  9.999011e-01  2.742675e-09  9.392648e-06  \n",
       "1  4.861271e-11  4.037799e-11  4.515735e-14  3.850750e-07  6.983586e-19  \n",
       "2  4.362307e-07  9.068518e-07  6.361164e-06  6.851589e-06  6.635903e-09  \n",
       "3  1.466286e-09  8.896251e-08  1.148137e-05  1.958071e-08  4.192355e-05  \n",
       "4  5.808052e-11  1.026500e-09  3.927865e-05  7.786404e-09  2.234365e-06  "
      ]
     },
     "execution_count": 22,
     "metadata": {},
     "output_type": "execute_result"
    }
   ],
   "source": [
    "predictions.head()"
   ]
  },
  {
   "cell_type": "code",
   "execution_count": 39,
   "metadata": {
    "scrolled": false
   },
   "outputs": [
    {
     "data": {
      "image/png": "[encoded data removed]",
      "text/plain": [
       "<Figure size 360x360 with 1 Axes>"
      ]
     },
     "metadata": {
      "needs_background": "light"
     },
     "output_type": "display_data"
    },
    {
     "data": {
      "image/png": "[encoded data removed]",
      "text/plain": [
       "<Figure size 360x360 with 1 Axes>"
      ]
     },
     "metadata": {
      "needs_background": "light"
     },
     "output_type": "display_data"
    },
    {
     "data": {
      "image/png": "[encoded data removed]",
      "text/plain": [
       "<Figure size 360x360 with 1 Axes>"
      ]
     },
     "metadata": {
      "needs_background": "light"
     },
     "output_type": "display_data"
    },
    {
     "data": {
      "image/png": "[encoded data removed]",
      "text/plain": [
       "<Figure size 360x360 with 1 Axes>"
      ]
     },
     "metadata": {
      "needs_background": "light"
     },
     "output_type": "display_data"
    },
    {
     "data": {
      "image/png": "[encoded data removed]",
      "text/plain": [
       "<Figure size 360x360 with 1 Axes>"
      ]
     },
     "metadata": {
      "needs_background": "light"
     },
     "output_type": "display_data"
    }
   ],
   "source": [
    "index=14\n",
    "for i in range(5):\n",
    "    plt.figure(figsize=(5,5))\n",
    "    plt.imshow(x_test[i])"
   ]
  },
  {
   "cell_type": "code",
   "execution_count": 24,
   "metadata": {},
   "outputs": [
    {
     "data": {
      "text/html": [
       "<div>\n",
       "<style scoped>\n",
       "    .dataframe tbody tr th:only-of-type {\n",
       "        vertical-align: middle;\n",
       "    }\n",
       "\n",
       "    .dataframe tbody tr th {\n",
       "        vertical-align: top;\n",
       "    }\n",
       "\n",
       "    .dataframe thead th {\n",
       "        text-align: right;\n",
       "    }\n",
       "</style>\n",
       "<table border=\"1\" class=\"dataframe\">\n",
       "  <thead>\n",
       "    <tr style=\"text-align: right;\">\n",
       "      <th></th>\n",
       "      <th>0</th>\n",
       "      <th>0</th>\n",
       "    </tr>\n",
       "  </thead>\n",
       "  <tbody>\n",
       "    <tr>\n",
       "      <th>0</th>\n",
       "      <td>0</td>\n",
       "      <td>7</td>\n",
       "    </tr>\n",
       "    <tr>\n",
       "      <th>1</th>\n",
       "      <td>0</td>\n",
       "      <td>2</td>\n",
       "    </tr>\n",
       "    <tr>\n",
       "      <th>2</th>\n",
       "      <td>0</td>\n",
       "      <td>1</td>\n",
       "    </tr>\n",
       "    <tr>\n",
       "      <th>3</th>\n",
       "      <td>0</td>\n",
       "      <td>0</td>\n",
       "    </tr>\n",
       "    <tr>\n",
       "      <th>4</th>\n",
       "      <td>0</td>\n",
       "      <td>4</td>\n",
       "    </tr>\n",
       "  </tbody>\n",
       "</table>\n",
       "</div>"
      ],
      "text/plain": [
       "   0  0\n",
       "0  0  7\n",
       "1  0  2\n",
       "2  0  1\n",
       "3  0  0\n",
       "4  0  4"
      ]
     },
     "execution_count": 24,
     "metadata": {},
     "output_type": "execute_result"
    }
   ],
   "source": [
    "# output the prediction number !\n",
    "predictions_me=predictions.apply(np.argmax,axis=1)\n",
    "predictions_test=pd.DataFrame(y_test[:5])\n",
    "\n",
    "predictions=pd.concat([predictions_me,predictions_test],axis=1)\n",
    "predictions.head()"
   ]
  }
 ],
 "metadata": {
  "kernelspec": {
   "display_name": "Python 3",
   "language": "python",
   "name": "python3"
  },
  "language_info": {
   "codemirror_mode": {
    "name": "ipython",
    "version": 3
   },
   "file_extension": ".py",
   "mimetype": "text/x-python",
   "name": "python",
   "nbconvert_exporter": "python",
   "pygments_lexer": "ipython3",
   "version": "3.8.10"
  }
 },
 "nbformat": 4,
 "nbformat_minor": 2
}
